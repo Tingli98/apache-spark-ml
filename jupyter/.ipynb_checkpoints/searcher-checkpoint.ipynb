{
 "cells": [
  {
   "cell_type": "markdown",
   "metadata": {},
   "source": [
    "# Term Frequency-Inverse Document Frequency (TF-IDF)\n",
    "In information retrieval, TF-IDF is a numerical statistic helps decide how important a word is to a document in a collection or a corpus. It is most popular term-weighing schemes today (83% of text-based recommender systems - 1985)"
   ]
  },
  {
   "cell_type": "code",
   "execution_count": null,
   "metadata": {},
   "outputs": [],
   "source": [
    "from pyspark import SparkConf, SparkContext\n",
    "from pyspark.mllib.feature import HashingTF\n",
    "from pyspark.mllib.feature import IDF\n",
    "\n",
    "# Load documents (one per line).\n",
    "raw_data = sc.textFile(\"/user/student/subset-small.tsv\")\n",
    "fields = raw_data.map(lambda x: x.split(\"\\t\"))\n",
    "documents = fields.map(lambda x: x[3].split(\" \"))\n",
    "\n",
    "# Store the document names for later:\n",
    "document_names = fields.map(lambda x: x[1])\n",
    "\n",
    "# Now hash the words in each document to their term frequencies:\n",
    "hashing_TF = HashingTF(100000)  #100K hash buckets just to save some memory\n",
    "tf = hashing_TF.transform(documents)\n",
    "\n",
    "# At this point we have an RDD of sparse vectors representing each document,\n",
    "# where each value maps to the term frequency of each unique hash value.\n",
    "\n",
    "# Let's compute the TF*IDF of each term in each document:\n",
    "tf.cache()\n",
    "idf = IDF(minDocFreq=2).fit(tf)\n",
    "tfidf = idf.transform(tf)\n"
   ]
  },
  {
   "cell_type": "code",
   "execution_count": null,
   "metadata": {},
   "outputs": [],
   "source": [
    "search_text = \"Gettysburg\"\n",
    "text_TF = hashing_TF.transform([search_text])\n",
    "text_hash_value = int(text_TF.indices[0])\n",
    "\n",
    "# Now we will extract the TF*IDF score for Gettsyburg's hash value into\n",
    "# a new RDD for each document:\n",
    "text_relevance = tfidf.map(lambda x: x[text_hash_value])\n",
    "\n",
    "# We'll zip in the document names so we can see which is which:\n",
    "results = text_relevance.zip(document_names)\n",
    "\n",
    "# And, print the document with the maximum TF*IDF value:\n",
    "print(\"Best document for {} is:\".format(search_text))\n",
    "print(results.max())"
   ]
  },
  {
   "cell_type": "code",
   "execution_count": null,
   "metadata": {},
   "outputs": [],
   "source": []
  }
 ],
 "metadata": {
  "kernelspec": {
   "display_name": "Python 3",
   "language": "python",
   "name": "python3"
  },
  "language_info": {
   "codemirror_mode": {
    "name": "ipython",
    "version": 3
   },
   "file_extension": ".py",
   "mimetype": "text/x-python",
   "name": "python",
   "nbconvert_exporter": "python",
   "pygments_lexer": "ipython3",
   "version": "3.6.9"
  }
 },
 "nbformat": 4,
 "nbformat_minor": 2
}
